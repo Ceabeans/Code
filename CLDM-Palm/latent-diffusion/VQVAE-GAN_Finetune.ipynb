{
 "cells": [
  {
   "cell_type": "code",
   "execution_count": null,
   "id": "137921ef-edc9-4352-8b76-33f931829a57",
   "metadata": {},
   "outputs": [
    {
     "name": "stdout",
     "output_type": "stream",
     "text": [
      "GPU Name: NVIDIA GeForce RTX 4090\n"
     ]
    }
   ],
   "source": [
    "import torch\n",
    "from torch.utils.data import Dataset, DataLoader\n",
    "from torchvision import transforms\n",
    "from PIL import Image\n",
    "import os\n",
    "from tqdm import tqdm  \n",
    "\n",
    "from ldm.models.autoencoder import VQModel\n",
    "from taming.modules.losses.vqperceptual import VQLPIPSWithDiscriminator\n",
    "\n",
    "\n",
    "config = {\n",
    "    'base_learning_rate': 1.0e-6,\n",
    "    'params': {\n",
    "        'embed_dim': 3,\n",
    "        'n_embed': 8192,\n",
    "        'monitor': 'val/rec_loss',\n",
    "        'ddconfig': {\n",
    "            'double_z': False,\n",
    "            'z_channels': 3,\n",
    "            'resolution': 256,\n",
    "            'in_channels': 3,\n",
    "            'out_ch': 3,\n",
    "            'ch': 128,\n",
    "            'ch_mult': [1, 2, 4],\n",
    "            'num_res_blocks': 2,\n",
    "            'attn_resolutions': [],\n",
    "            'dropout': 0.0\n",
    "        },\n",
    "        'lossconfig': {\n",
    "            'target': 'taming.modules.losses.vqperceptual.VQLPIPSWithDiscriminator',\n",
    "            'params': {\n",
    "                'disc_conditional': False,\n",
    "                'disc_in_channels': 3,\n",
    "                'disc_start': 0,\n",
    "                'disc_weight': 0.75,\n",
    "                'codebook_weight': 1.0\n",
    "            }\n",
    "        }\n",
    "    }\n",
    "}\n",
    "\n",
    "\n",
    "\n",
    "device = torch.device('cuda' if torch.cuda.is_available() else 'cpu')\n",
    "\n",
    "if torch.cuda.is_available():\n",
    "    device_name = torch.cuda.get_device_name(0)\n",
    "    print(f\"GPU Name: {device_name}\")\n",
    "else:\n",
    "    print(\"No GPU available, using CPU.\")"
   ]
  },
  {
   "cell_type": "code",
   "execution_count": null,
   "id": "41f7b21f-28c1-4c5e-8b6f-14aa3a9e1b86",
   "metadata": {},
   "outputs": [],
   "source": [
    "\n",
    "transform2 = transforms.Compose([\n",
    "    transforms.Resize((256, 256)),\n",
    "    transforms.ToTensor(),  \n",
    "    transforms.Normalize(mean=[0.5, 0.5, 0.5], std=[0.5, 0.5, 0.5])  \n",
    "])\n",
    "\n",
    "\n",
    "class RealPalmDataset(Dataset):\n",
    "    def __init__(self, root_dir, transform=None):\n",
    "        self.root_dir = root_dir\n",
    "        self.transform = transform\n",
    "        self.image_paths = []\n",
    "        \n",
    "        for subfolder2 in os.listdir(root_dir):\n",
    "            subfolder2_path = os.path.join(root_dir, subfolder2)\n",
    "            if os.path.isdir(subfolder2_path):\n",
    "                for filenameB in os.listdir(subfolder2_path):\n",
    "                    image_path = os.path.join(subfolder2_path, filenameB)\n",
    "                    if os.path.isfile(image_path):\n",
    "                        self.image_paths.append(image_path)\n",
    "\n",
    "    def __len__(self):\n",
    "        return len(self.image_paths)\n",
    "\n",
    "    def __getitem__(self, idx):\n",
    "        img_path = self.image_paths[idx]\n",
    "        image = Image.open(img_path).convert('RGB')  \n",
    "        if self.transform:\n",
    "            image = self.transform(image)\n",
    "        return image\n",
    "\n",
    "\n",
    "real_image_folder = './RealPalm'\n",
    "\n",
    "\n",
    "dataset_real_palm_B = RealPalmDataset(real_image_folder, transform=transform2)\n",
    "\n",
    "train_loader = DataLoader(dataset_real_palm_B, \n",
    "                          batch_size=6, \n",
    "                          shuffle=True, \n",
    "                          num_workers=8, \n",
    "                          pin_memory=True)"
   ]
  },
  {
   "cell_type": "code",
   "execution_count": null,
   "id": "4eefec05-be23-4d40-a430-ccad457effc9",
   "metadata": {},
   "outputs": [],
   "source": [
    "mean = torch.tensor([0.5, 0.5, 0.5]).view(1, 3, 1, 1).to(device)\n",
    "std = torch.tensor([0.5, 0.5, 0.5]).view(1, 3, 1, 1).to(device)\n",
    "\n",
    "\n",
    "save_dir1 = os.path.join('./latent-diffusion-final', 'input_fine')\n",
    "save_dir2 = os.path.join('./latent-diffusion-final', 'output_fine')\n",
    "\n",
    "os.makedirs(save_dir1, exist_ok=True)\n",
    "os.makedirs(save_dir2, exist_ok=True)"
   ]
  },
  {
   "cell_type": "code",
   "execution_count": null,
   "id": "a3832422-97f9-417d-9779-54560038b187",
   "metadata": {},
   "outputs": [
    {
     "name": "stdout",
     "output_type": "stream",
     "text": [
      "making attention of type 'vanilla' with 512 in_channels\n",
      "Working with z of shape (1, 3, 64, 64) = 12288 dimensions.\n",
      "making attention of type 'vanilla' with 512 in_channels\n"
     ]
    },
    {
     "name": "stderr",
     "output_type": "stream",
     "text": [
      "/root/miniconda3/lib/python3.10/site-packages/torchvision/models/_utils.py:208: UserWarning: The parameter 'pretrained' is deprecated since 0.13 and may be removed in the future, please use 'weights' instead.\n",
      "  warnings.warn(\n",
      "/root/miniconda3/lib/python3.10/site-packages/torchvision/models/_utils.py:223: UserWarning: Arguments other than a weight enum or `None` for 'weights' are deprecated since 0.13 and may be removed in the future. The current behavior is equivalent to passing `weights=VGG16_Weights.IMAGENET1K_V1`. You can also use `weights=VGG16_Weights.DEFAULT` to get the most up-to-date weights.\n",
      "  warnings.warn(msg)\n",
      "/root/onethingai-tmp/latent-diffusion-final/taming/modules/losses/lpips.py:29: FutureWarning: You are using `torch.load` with `weights_only=False` (the current default value), which uses the default pickle module implicitly. It is possible to construct malicious pickle data which will execute arbitrary code during unpickling (See https://github.com/pytorch/pytorch/blob/main/SECURITY.md#untrusted-models for more details). In a future release, the default value for `weights_only` will be flipped to `True`. This limits the functions that could be executed during unpickling. Arbitrary objects will no longer be allowed to be loaded via this mode unless they are explicitly allowlisted by the user via `torch.serialization.add_safe_globals`. We recommend you start setting `weights_only=True` for any use case where you don't have full control of the loaded file. Please open an issue on GitHub for any issues related to this experimental feature.\n",
      "  self.load_state_dict(torch.load(ckpt, map_location=torch.device(\"cpu\")), strict=False)\n",
      "/tmp/ipykernel_346/2171534953.py:4: FutureWarning: You are using `torch.load` with `weights_only=False` (the current default value), which uses the default pickle module implicitly. It is possible to construct malicious pickle data which will execute arbitrary code during unpickling (See https://github.com/pytorch/pytorch/blob/main/SECURITY.md#untrusted-models for more details). In a future release, the default value for `weights_only` will be flipped to `True`. This limits the functions that could be executed during unpickling. Arbitrary objects will no longer be allowed to be loaded via this mode unless they are explicitly allowlisted by the user via `torch.serialization.add_safe_globals`. We recommend you start setting `weights_only=True` for any use case where you don't have full control of the loaded file. Please open an issue on GitHub for any issues related to this experimental feature.\n",
      "  checkpoint = torch.load('VQf4model.ckpt', map_location=device)\n"
     ]
    },
    {
     "name": "stdout",
     "output_type": "stream",
     "text": [
      "loaded pretrained LPIPS loss from taming/modules/autoencoder/lpips/vgg.pth\n",
      "VQLPIPSWithDiscriminator running with hinge loss.\n"
     ]
    }
   ],
   "source": [
    "\n",
    "model = VQModel(**config['params'])\n",
    "\n",
    "checkpoint = torch.load('VQf4model.ckpt', map_location=device)\n",
    "\n",
    "model.load_state_dict(checkpoint['state_dict'])\n",
    "\n",
    "\n",
    "model.to(device)\n",
    "\n",
    "\n",
    "optimizer = torch.optim.AdamW(model.parameters(), lr=config['base_learning_rate'])\n",
    "\n",
    "\n",
    "def train(model, dataloader, optimizer, num_epochs):\n",
    "    model.train()\n",
    "    global_step = 0\n",
    "    for epoch in tqdm(range(num_epochs), desc='Epochs'):\n",
    "        for images in dataloader:\n",
    "            images = images.to(device)\n",
    "\n",
    "            optimizer.zero_grad()\n",
    "            \n",
    "            reconstructions, codebook_loss = model(images)\n",
    "            \n",
    "            loss = torch.mean(torch.abs(images - reconstructions)) + codebook_loss.mean()\n",
    "            \n",
    "            \n",
    "            loss.backward()\n",
    "            optimizer.step()\n",
    "            \n",
    "            global_step += 1\n",
    "        print(f'Epoch [{epoch+1}/{num_epochs}], Loss: {loss.item():.4f}')\n",
    "        \n",
    "    \n",
    "        torch.save(model.state_dict(), 'vqmodel_checkpoint.ckpt')\n",
    "        print(\"Model parameters saved to vqmodel_checkpoint.ckpt\")\n",
    "        \n",
    "        \n",
    "        if epoch in [4, 9]:  \n",
    "            for i, (input_i, output_i) in enumerate(zip(images, reconstructions)):\n",
    "                \n",
    "                input_i = input_i * std + mean\n",
    "                output_i = output_i * std + mean\n",
    "\n",
    "                input = transforms.ToPILImage()(input_i.cpu().squeeze())\n",
    "                output = transforms.ToPILImage()(output_i.cpu().squeeze())\n",
    "\n",
    "                \n",
    "                name_B1 = f'input{epoch+1}_pair{i+1}.png'\n",
    "                name_B2 = f'output{epoch+1}_pair{i+1}.png'\n",
    "\n",
    "                save_path1 = os.path.join(save_dir1, name_B1)\n",
    "                save_path2 = os.path.join(save_dir2, name_B2)\n",
    "\n",
    "                input.save(save_path1)\n",
    "                output.save(save_path2)\n"
   ]
  },
  {
   "cell_type": "code",
   "execution_count": null,
   "id": "f1812be1-ad56-4e94-bf24-bf44e5e41e60",
   "metadata": {},
   "outputs": [
    {
     "name": "stderr",
     "output_type": "stream",
     "text": [
      "Epochs:  20%|██        | 1/5 [49:44<3:18:56, 2984.25s/it]"
     ]
    },
    {
     "name": "stdout",
     "output_type": "stream",
     "text": [
      "Epoch [1/5], Loss: 0.0140\n"
     ]
    },
    {
     "name": "stderr",
     "output_type": "stream",
     "text": [
      "Epochs:  40%|████      | 2/5 [1:39:30<2:29:16, 2985.36s/it]"
     ]
    },
    {
     "name": "stdout",
     "output_type": "stream",
     "text": [
      "Epoch [2/5], Loss: 0.0126\n"
     ]
    },
    {
     "name": "stderr",
     "output_type": "stream",
     "text": [
      "Epochs:  60%|██████    | 3/5 [2:29:15<1:39:30, 2985.28s/it]"
     ]
    },
    {
     "name": "stdout",
     "output_type": "stream",
     "text": [
      "Epoch [3/5], Loss: 0.0112\n"
     ]
    }
   ],
   "source": [
    "\n",
    "model.to(device)\n",
    "\n",
    "\n",
    "num_epochs = 5\n",
    "train(model, train_loader, optimizer, num_epochs)"
   ]
  }
 ],
 "metadata": {
  "kernelspec": {
   "display_name": "Python 3 (ipykernel)",
   "language": "python",
   "name": "python3"
  },
  "language_info": {
   "codemirror_mode": {
    "name": "ipython",
    "version": 3
   },
   "file_extension": ".py",
   "mimetype": "text/x-python",
   "name": "python",
   "nbconvert_exporter": "python",
   "pygments_lexer": "ipython3",
   "version": "3.10.12"
  }
 },
 "nbformat": 4,
 "nbformat_minor": 5
}

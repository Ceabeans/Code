{
 "cells": [
  {
   "cell_type": "code",
   "execution_count": null,
   "metadata": {
    "collapsed": false,
    "pycharm": {
     "name": "#%%\n"
    }
   },
   "outputs": [],
   "source": [
    "import os\n",
    "import random\n",
    "import torchvision.transforms as transforms\n",
    "from PIL import Image\n",
    "\n",
    "\n",
    "base_path = \"./BEZIER-40w\"\n",
    "\n",
    "\n",
    "def process_image(image_path):\n",
    "\n",
    "    image = Image.open(image_path).convert(\"L\")\n",
    "\n",
    "\n",
    "    rotate_angle = random.uniform(-5, 5)\n",
    "    rotated_image = image.rotate(rotate_angle, fillcolor=255)\n",
    "\n",
    "\n",
    "    translate_x = random.randint(-10, 10)\n",
    "    translate_y = random.randint(-10, 10)\n",
    "    translated_image = rotated_image.transform(rotated_image.size,\n",
    "                                                Image.AFFINE,\n",
    "                                                (1, 0, translate_x, 0, 1, translate_y),\n",
    "                                                fillcolor=255)\n",
    "\n",
    "    resized_image = translated_image.resize((256, 256), Image.LANCZOS)\n",
    "\n",
    "    return resized_image\n",
    "\n",
    "\n",
    "for foldername in os.listdir(base_path):\n",
    "    folder_path = os.path.join(base_path, foldername)\n",
    "    if os.path.isdir(folder_path):\n",
    "        for filename in os.listdir(folder_path):\n",
    "            if filename.endswith('.jpg') or filename.endswith('.png'):  \n",
    "                image_path = os.path.join(folder_path, filename)\n",
    "                processed_image = process_image(image_path)\n",
    "                processed_image.save(image_path)\n",
    "\n",
    "print(\"All images have been processed and saved with overwrite.\")"
   ]
  },
  {
   "cell_type": "code",
   "execution_count": null,
   "metadata": {
    "collapsed": false,
    "pycharm": {
     "name": "#%%\n"
    }
   },
   "outputs": [],
   "source": [
    "import os\n",
    "from PIL import Image\n",
    "\n",
    "base_path = \"./pce-bezier-test\"\n",
    "\n",
    "# Function to check binary images\n",
    "def is_binary_image(image):\n",
    "    # Convert image to 1-bit image, i.e., black and white binary image\n",
    "    binary_image = image.convert(\"1\")\n",
    "    # Calculate the difference between original image and binary image\n",
    "    return list(image.getdata()) == list(binary_image.getdata())\n",
    "\n",
    "# Function to check single channel\n",
    "def is_single_channel(image):\n",
    "    return image.mode in ['L', '1']  # 'L' represents grayscale image, '1' represents binary image\n",
    "\n",
    "# Traverse folders and check images\n",
    "def check_images(base_path):\n",
    "    for foldername in os.listdir(base_path):\n",
    "        folder_path = os.path.join(base_path, foldername)\n",
    "        if os.path.isdir(folder_path):\n",
    "            for filename in os.listdir(folder_path):\n",
    "                if filename.lower().endswith('.png'):  # Check file extension\n",
    "                    image_path = os.path.join(folder_path, filename)\n",
    "                    try:\n",
    "                        with Image.open(image_path) as img:\n",
    "                            # Check all conditions\n",
    "                            if (img.size == (256, 256) and\n",
    "                                is_binary_image(img) and\n",
    "                                is_single_channel(img)):\n",
    "                                print(f\"{image_path} meets requirements\")\n",
    "                    except Exception as e:\n",
    "                        print(f\"Unable to process file {image_path}: {e}\")\n",
    "\n",
    "check_images(base_path)"
   ]
  }
 ],
 "metadata": {
  "kernelspec": {
   "display_name": "Python 3",
   "language": "python",
   "name": "python3"
  },
  "language_info": {
   "codemirror_mode": {
    "name": "ipython",
    "version": 2
   },
   "file_extension": ".py",
   "mimetype": "text/x-python",
   "name": "python",
   "nbconvert_exporter": "python",
   "pygments_lexer": "ipython2",
   "version": "2.7.6"
  }
 },
 "nbformat": 4,
 "nbformat_minor": 0
}

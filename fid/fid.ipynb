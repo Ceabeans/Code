{
 "cells": [
  {
   "cell_type": "markdown",
   "metadata": {},
   "source": [
    "## FID计算"
   ]
  },
  {
   "cell_type": "code",
   "execution_count": null,
   "metadata": {},
   "outputs": [],
   "source": [
    "from utils.fid_score import calculate_fid_given_paths\n",
    "\n",
    "real_images_folder = r\"../data/FID/RealPalm37390\"\n",
    "generated_images_folder = f\"./data/FID/C_LDM_DDIM10_FID\"\n",
    "fid = calculate_fid_given_paths(\n",
    "    (real_images_folder, generated_images_folder),\n",
    "    batch_size=64,\n",
    "    dims=2048,\n",
    "    num_workers=10)"
   ]
  }
 ],
 "metadata": {
  "language_info": {
   "name": "python"
  }
 },
 "nbformat": 4,
 "nbformat_minor": 2
}
